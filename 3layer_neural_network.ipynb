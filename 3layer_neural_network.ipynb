{
 "cells": [
  {
   "cell_type": "code",
   "execution_count": 1,
   "metadata": {
    "collapsed": true
   },
   "outputs": [],
   "source": [
    "from numpy import exp, array, random, dot"
   ]
  },
  {
   "cell_type": "code",
   "execution_count": 2,
   "metadata": {
    "collapsed": true
   },
   "outputs": [],
   "source": [
    "class NeuronLayer():\n",
    "    def __init__(self, number_of_neurons, number_of_inputs_per_neuron):\n",
    "        self.synaptic_weights = 2 * random.random((number_of_inputs_per_neuron, number_of_neurons)) - 1"
   ]
  },
  {
   "cell_type": "code",
   "execution_count": 4,
   "metadata": {},
   "outputs": [],
   "source": [
    "class NeuralNetwork():\n",
    "    def __init__(self, layer1, layer2, layer3):\n",
    "        self.layer1 = layer1\n",
    "        self.layer2 = layer2\n",
    "        self.layer3 = layer3\n",
    "\n",
    "    # The Sigmoid function, which describes an S shaped curve.\n",
    "    # We pass the weighted sum of the inputs through this function to\n",
    "    # normalise them between 0 and 1.\n",
    "    def __sigmoid(self, x):\n",
    "        return 1 / (1 + exp(-x))\n",
    "\n",
    "    # The derivative of the Sigmoid function.\n",
    "    # This is the gradient of the Sigmoid curve.\n",
    "    # It indicates how confident we are about the existing weight.\n",
    "    def __sigmoid_derivative(self, x):\n",
    "        return x * (1 - x)\n",
    "\n",
    "    # We train the neural network through a process of trial and error.\n",
    "    # Adjusting the synaptic weights each time.\n",
    "    def train(self, training_set_inputs, training_set_outputs, number_of_training_iterations):\n",
    "        for iteration in xrange(number_of_training_iterations):\n",
    "            # Pass the training set through our neural network\n",
    "            output_from_layer_1, output_from_layer_2,output_from_layer_3 = self.think(training_set_inputs)\n",
    "\n",
    "            # Calculate the error for layer 3 (The difference between the desired output\n",
    "            # and the predicted output).\n",
    "            layer3_error = training_set_outputs - output_from_layer_3\n",
    "            layer3_delta = layer3_error * self.__sigmoid_derivative(output_from_layer_3)\n",
    "            \n",
    "            #Calculate the error for layer 2\n",
    "            layer2_error = dot(layer3_delta,self.layer3.synaptic_weights.T)\n",
    "            layer2_delta = layer2_error*self.__sigmoid_derivative(output_from_layer_2)\n",
    "\n",
    "            # Calculate the error for layer 1 (By looking at the weights in layer 1,\n",
    "            # we can determine by how much layer 1 contributed to the error in layer 2).\n",
    "            layer1_error = layer2_delta.dot(self.layer2.synaptic_weights.T)\n",
    "            layer1_delta = layer1_error * self.__sigmoid_derivative(output_from_layer_1)\n",
    "\n",
    "            # Calculate how much to adjust the weights by\n",
    "            layer1_adjustment = training_set_inputs.T.dot(layer1_delta)\n",
    "            layer2_adjustment = output_from_layer_1.T.dot(layer2_delta)\n",
    "            layer3_adjustment = output_from_layer_2.T.dot(layer3_delta)\n",
    "\n",
    "            # Adjust the weights.\n",
    "            self.layer1.synaptic_weights += layer1_adjustment\n",
    "            self.layer2.synaptic_weights += layer2_adjustment\n",
    "            self.layer3.synaptic_weights += layer3_adjustment\n",
    "\n",
    "    # The neural network thinks.\n",
    "    def think(self, inputs):\n",
    "        output_from_layer1 = self.__sigmoid(dot(inputs, self.layer1.synaptic_weights))\n",
    "        output_from_layer2 = self.__sigmoid(dot(output_from_layer1, self.layer2.synaptic_weights))\n",
    "        output_from_layer3 = self.__sigmoid(dot(output_from_layer2, self.layer3.synaptic_weights))\n",
    "        return output_from_layer1, output_from_layer2, output_from_layer3\n",
    "\n",
    "    # The neural network prints its weights\n",
    "    def print_weights(self):\n",
    "        print \"    Layer 1 (4 neurons, each with 3 inputs): \"\n",
    "        print self.layer1.synaptic_weights\n",
    "        print \"    Layer 2 (4 neuron, with 4 inputs):\"\n",
    "        print self.layer2.synaptic_weights\n",
    "        print \"    Layer 3 (1 neuron, with 4 inputs):\"\n",
    "        print self.layer2.synaptic_weights"
   ]
  },
  {
   "cell_type": "code",
   "execution_count": 5,
   "metadata": {
    "collapsed": true
   },
   "outputs": [],
   "source": [
    "#Seed the random number generator\n",
    "random.seed(1)\n",
    "\n",
    "# Create layer 1 (4 neurons, each with 3 inputs)\n",
    "layer1 = NeuronLayer(4, 3)\n",
    "\n",
    "# Create layer 2 (4 neurons, each with 4 inputs)\n",
    "layer2 = NeuronLayer(4,4)\n",
    "\n",
    "# Create layer 3 (a single neuron with 4 inputs)\n",
    "layer3 = NeuronLayer(1, 4)\n",
    "\n",
    "# Combine the layers to create a neural network\n",
    "neural_network = NeuralNetwork(layer1, layer2, layer3)"
   ]
  },
  {
   "cell_type": "code",
   "execution_count": 7,
   "metadata": {},
   "outputs": [
    {
     "name": "stdout",
     "output_type": "stream",
     "text": [
      "Stage 2) New synaptic weights after training: \n",
      "    Layer 1 (4 neurons, each with 3 inputs): \n",
      "[[ 4.84879293  4.97195613  2.55851799 -4.37847219]\n",
      " [ 4.23631951 -2.2528169  -5.8611052  -3.82881242]\n",
      " [-0.20364023  0.32877177  0.04485691 -0.07295433]]\n",
      "    Layer 2 (4 neuron, with 4 inputs):\n",
      "[[-5.77025507  2.07903323 -0.86774455  3.33891018]\n",
      " [-1.55313483  1.4420969  -1.7638698  -7.37614037]\n",
      " [ 4.02104663 -0.52730164  0.39525931  7.21716673]\n",
      " [ 6.04398202  1.22208779 -0.86014966 -3.72299009]]\n",
      "    Layer 3 (1 neuron, with 4 inputs):\n",
      "[[-5.77025507  2.07903323 -0.86774455  3.33891018]\n",
      " [-1.55313483  1.4420969  -1.7638698  -7.37614037]\n",
      " [ 4.02104663 -0.52730164  0.39525931  7.21716673]\n",
      " [ 6.04398202  1.22208779 -0.86014966 -3.72299009]]\n",
      "Stage 3) Considering a new situation [1, 1, 0] -> ?: \n",
      "[ 0.00358689]\n"
     ]
    }
   ],
   "source": [
    "# The training set. We have 7 examples, each consisting of 3 input values\n",
    "# and 1 output value.\n",
    "training_set_inputs = array([[0, 0, 1], [0, 1, 1], [1, 0, 1], [0, 1, 0], [1, 0, 0], [1, 1, 1], [0, 0, 0]])\n",
    "training_set_outputs = array([[0, 1, 1, 1, 1, 0, 0]]).T\n",
    "\n",
    "# Train the neural network using the training set.\n",
    "# Do it 60,000 times and make small adjustments each time.\n",
    "neural_network.train(training_set_inputs, training_set_outputs, 60000)\n",
    "\n",
    "print \"Stage 2) New synaptic weights after training: \"\n",
    "neural_network.print_weights()\n",
    "\n",
    "# Test the neural network with a new situation.\n",
    "print \"Stage 3) Considering a new situation [1, 1, 0] -> ?: \"\n",
    "hidden_state1, hidden_state2, output = neural_network.think(array([1, 1, 0]))\n",
    "print output"
   ]
  },
  {
   "cell_type": "code",
   "execution_count": 8,
   "metadata": {},
   "outputs": [
    {
     "name": "stdout",
     "output_type": "stream",
     "text": [
      "[ 0.9981855]\n"
     ]
    }
   ],
   "source": [
    "hidden_state1, hidden_state2, output = neural_network.think(array([1, 0, 0]))\n",
    "print output"
   ]
  },
  {
   "cell_type": "code",
   "execution_count": null,
   "metadata": {
    "collapsed": true
   },
   "outputs": [],
   "source": []
  }
 ],
 "metadata": {
  "kernelspec": {
   "display_name": "Python 2",
   "language": "python",
   "name": "python2"
  },
  "language_info": {
   "codemirror_mode": {
    "name": "ipython",
    "version": 2
   },
   "file_extension": ".py",
   "mimetype": "text/x-python",
   "name": "python",
   "nbconvert_exporter": "python",
   "pygments_lexer": "ipython2",
   "version": "2.7.13"
  }
 },
 "nbformat": 4,
 "nbformat_minor": 2
}
